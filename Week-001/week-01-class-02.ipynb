{
  "nbformat": 4,
  "nbformat_minor": 0,
  "metadata": {
    "kernelspec": {
      "display_name": "Python 3",
      "language": "python",
      "name": "python3"
    },
    "language_info": {
      "codemirror_mode": {
        "name": "ipython",
        "version": 3
      },
      "file_extension": ".py",
      "mimetype": "text/x-python",
      "name": "python",
      "nbconvert_exporter": "python",
      "pygments_lexer": "ipython3",
      "version": "3.9.0"
    },
    "colab": {
      "name": "week-01-class-02.ipynb",
      "provenance": [],
      "include_colab_link": true
    }
  },
  "cells": [
    {
      "cell_type": "markdown",
      "metadata": {
        "id": "view-in-github",
        "colab_type": "text"
      },
      "source": [
        "<a href=\"https://colab.research.google.com/github/ibrahim2020diallo/DS2022/blob/main/Week-001/week-01-class-02.ipynb\" target=\"_parent\"><img src=\"https://colab.research.google.com/assets/colab-badge.svg\" alt=\"Open In Colab\"/></a>"
      ]
    },
    {
      "cell_type": "markdown",
      "metadata": {
        "id": "mTrMMfXB3G4e"
      },
      "source": [
        "<div style=\"background: #000;\n",
        "            color: #FFF;\n",
        "            margin: 0px;\n",
        "                padding: 10px 0px 20px 0px;\n",
        "            text-align: center; \n",
        "                \">\n",
        "    <h1>Python Data Science Course - Week 1 - Day 2</h1>\n",
        "</div>\n",
        "\n",
        "\n",
        "\n",
        "## Todays Agenda\n",
        "\n",
        "* Data Types\n",
        "* Variable Declaration\n",
        "* Strings/String Methods\n",
        "\n"
      ]
    },
    {
      "cell_type": "markdown",
      "metadata": {
        "id": "0HhrcOXs3G4l"
      },
      "source": [
        "\n"
      ]
    },
    {
      "cell_type": "markdown",
      "metadata": {
        "id": "j8Y3_rBh3G4m"
      },
      "source": [
        "## Examples of things we can do in Python"
      ]
    },
    {
      "cell_type": "code",
      "metadata": {
        "id": "W6mQiHnI3G4o"
      },
      "source": [
        "None"
      ],
      "execution_count": null,
      "outputs": []
    },
    {
      "cell_type": "code",
      "metadata": {
        "id": "z5W1l7zp3G4q"
      },
      "source": [
        "\"this is text\""
      ],
      "execution_count": null,
      "outputs": []
    },
    {
      "cell_type": "code",
      "metadata": {
        "id": "_hBvsQz_3G4q"
      },
      "source": [
        "# this is a comment"
      ],
      "execution_count": null,
      "outputs": []
    },
    {
      "cell_type": "code",
      "metadata": {
        "id": "SeAnMS3M3G4r"
      },
      "source": [
        "718 # this is a number (integer to be precise)"
      ],
      "execution_count": null,
      "outputs": []
    },
    {
      "cell_type": "code",
      "metadata": {
        "id": "X7Xhhn2g3G4t"
      },
      "source": [
        "3 + 3 # - 3 # + -3 "
      ],
      "execution_count": null,
      "outputs": []
    },
    {
      "cell_type": "code",
      "metadata": {
        "id": "0JX1-gzJ3G4u"
      },
      "source": [
        "3**3 # **3"
      ],
      "execution_count": null,
      "outputs": []
    },
    {
      "cell_type": "code",
      "metadata": {
        "id": "h-2UpWnV3G4x"
      },
      "source": [
        "5 and 3"
      ],
      "execution_count": null,
      "outputs": []
    },
    {
      "cell_type": "code",
      "metadata": {
        "id": "la47lY6B3G4y"
      },
      "source": [
        "3 or 3 # then show 3 or 5 (and ask why) # then 5 and 3 (and ask why)"
      ],
      "execution_count": null,
      "outputs": []
    },
    {
      "cell_type": "code",
      "metadata": {
        "id": "BgSAj-J83G4y"
      },
      "source": [
        "True or False # and True"
      ],
      "execution_count": null,
      "outputs": []
    },
    {
      "cell_type": "code",
      "metadata": {
        "id": "jtKVEVJi3G4z"
      },
      "source": [
        "input(\"get user input?\")"
      ],
      "execution_count": null,
      "outputs": []
    },
    {
      "cell_type": "code",
      "metadata": {
        "id": "-0DJ9YXQ3G41"
      },
      "source": [
        "import this"
      ],
      "execution_count": null,
      "outputs": []
    },
    {
      "cell_type": "markdown",
      "metadata": {
        "id": "Cdw4nx_03G41"
      },
      "source": [
        "# Built in features"
      ]
    },
    {
      "cell_type": "markdown",
      "metadata": {
        "id": "TwWByhTf3G42"
      },
      "source": [
        "## python has built in functions"
      ]
    },
    {
      "cell_type": "code",
      "metadata": {
        "id": "kyvFr7kI3G43"
      },
      "source": [
        "dir(__builtins__)"
      ],
      "execution_count": null,
      "outputs": []
    },
    {
      "cell_type": "code",
      "metadata": {
        "id": "eYZpRcgg3G43"
      },
      "source": [
        "print(\"hello world\")"
      ],
      "execution_count": null,
      "outputs": []
    },
    {
      "cell_type": "code",
      "metadata": {
        "id": "ZBJjgr393G44"
      },
      "source": [
        "type(\"hello world\")"
      ],
      "execution_count": null,
      "outputs": []
    },
    {
      "cell_type": "code",
      "metadata": {
        "id": "vmch52103G45"
      },
      "source": [
        "int(\"4\")"
      ],
      "execution_count": null,
      "outputs": []
    },
    {
      "cell_type": "code",
      "metadata": {
        "id": "37Kh11_G3G46"
      },
      "source": [
        "hex(170)"
      ],
      "execution_count": null,
      "outputs": []
    },
    {
      "cell_type": "code",
      "metadata": {
        "id": "0Chn4xM33G46"
      },
      "source": [
        "input()"
      ],
      "execution_count": null,
      "outputs": []
    },
    {
      "cell_type": "markdown",
      "metadata": {
        "id": "FnhPA0h93G47"
      },
      "source": [
        "## python has built in modules"
      ]
    },
    {
      "cell_type": "code",
      "metadata": {
        "id": "RFGz0gNE3G48"
      },
      "source": [
        "help(\"modules\")"
      ],
      "execution_count": null,
      "outputs": []
    },
    {
      "cell_type": "code",
      "metadata": {
        "id": "FQ7_xQM13G48"
      },
      "source": [
        "print(dir.__doc__)\n",
        "print(\"\\n\")\n",
        "print(help.__doc__)\n",
        "print(\"\\n\")\n",
        "print(print.__doc__)"
      ],
      "execution_count": null,
      "outputs": []
    },
    {
      "cell_type": "markdown",
      "metadata": {
        "id": "wcDJ0dPE3G48"
      },
      "source": [
        "# Variable declations\n",
        "\n",
        "## Naming conventions\n",
        "* Variables can only contain letters, numbers, and underscores. Variable names can start with a letter or an underscore, but can not start with a number.\n",
        "* Spaces are not allowed in variable names, so we use underscores instead of spaces. For example, use student_name instead of \"student name\".\n",
        "* You cannot use Python [keywords](https://docs.python.org/3/reference/lexical_analysis.html#keywords) as variable names.\n",
        "* Variable names should be descriptive, without being too long. For example mc_wheels is better than just \"wheels\", and number_of_wheels_on_a_motorycle.\n",
        "* Be careful about using the lowercase letter l and the uppercase letter O in places where they could be confused with the numbers 1 and 0.\n"
      ]
    },
    {
      "cell_type": "code",
      "metadata": {
        "id": "PQ6OwKCl3G49"
      },
      "source": [
        "variable = \"string\""
      ],
      "execution_count": null,
      "outputs": []
    },
    {
      "cell_type": "code",
      "metadata": {
        "id": "XPpE7KGT3G49"
      },
      "source": [
        "variable = 23"
      ],
      "execution_count": null,
      "outputs": []
    },
    {
      "cell_type": "code",
      "metadata": {
        "id": "ybm4eMwB3G49"
      },
      "source": [
        "variable = True"
      ],
      "execution_count": null,
      "outputs": []
    },
    {
      "cell_type": "code",
      "metadata": {
        "colab": {
          "base_uri": "https://localhost:8080/"
        },
        "id": "-nrdy_Ry3G4-",
        "outputId": "cd159256-0337-42be-f3a0-fe03fc9696e1"
      },
      "source": [
        "s = 3\n",
        "a = s\n",
        "a = s = 2\n",
        "print(a)\n",
        "print(s)"
      ],
      "execution_count": 1,
      "outputs": [
        {
          "output_type": "stream",
          "name": "stdout",
          "text": [
            "2\n",
            "2\n"
          ]
        }
      ]
    },
    {
      "cell_type": "code",
      "metadata": {
        "colab": {
          "base_uri": "https://localhost:8080/"
        },
        "id": "KOjIrl_d3G4-",
        "outputId": "b6e38b55-8794-49be-b418-a5bdede2a1d1"
      },
      "source": [
        "s, a = (4, 2)\n",
        "s, a"
      ],
      "execution_count": 2,
      "outputs": [
        {
          "output_type": "execute_result",
          "data": {
            "text/plain": [
              "(4, 2)"
            ]
          },
          "metadata": {},
          "execution_count": 2
        }
      ]
    },
    {
      "cell_type": "code",
      "metadata": {
        "id": "Llvy3kWq3G4-"
      },
      "source": [
        "a = s = 4 \n",
        "a == s"
      ],
      "execution_count": null,
      "outputs": []
    },
    {
      "cell_type": "code",
      "metadata": {
        "id": "CGShiEst3G4_"
      },
      "source": [
        "a = True if 5 > 3 else False"
      ],
      "execution_count": 4,
      "outputs": []
    },
    {
      "cell_type": "code",
      "metadata": {
        "id": "929hv9rI3G5A"
      },
      "source": [
        "a"
      ],
      "execution_count": null,
      "outputs": []
    },
    {
      "cell_type": "code",
      "metadata": {
        "id": "783GUNtD3G5A"
      },
      "source": [
        "variable = True\n",
        "if variable: #if not variable:\n",
        "    print(\"what do you think this does?\")"
      ],
      "execution_count": null,
      "outputs": []
    },
    {
      "cell_type": "code",
      "metadata": {
        "id": "dAlFdSUy3G5A"
      },
      "source": [
        "li = list() # li = []"
      ],
      "execution_count": null,
      "outputs": []
    },
    {
      "cell_type": "code",
      "metadata": {
        "id": "vi7IBsEZ3G5A"
      },
      "source": [
        "li.append(0)\n",
        "#li.append(1)\n",
        "#li.append(2)\n",
        "#li.append(2) "
      ],
      "execution_count": null,
      "outputs": []
    },
    {
      "cell_type": "code",
      "metadata": {
        "id": "Y45hkUCC3G5B"
      },
      "source": [
        "li"
      ],
      "execution_count": null,
      "outputs": []
    },
    {
      "cell_type": "markdown",
      "metadata": {
        "id": "shZWeoiP3G5B"
      },
      "source": [
        "# Data Types"
      ]
    },
    {
      "cell_type": "markdown",
      "metadata": {
        "id": "rPuK1qLo3G5B"
      },
      "source": [
        "## What is a data type?"
      ]
    },
    {
      "cell_type": "markdown",
      "metadata": {
        "id": "m_Y6O6FF3G5B"
      },
      "source": [
        "A data type is an attribute of data which tells the interpreter (or compiler in the case of other languages) how the program intends to use the data. A data type constrains the values an expression might take. It constrains the operations that can be done on the data type and provides a set of values from which an expression may take its value."
      ]
    },
    {
      "cell_type": "markdown",
      "metadata": {
        "id": "E6xn1CLJ3G5B"
      },
      "source": [
        "## Primitive Data Types"
      ]
    },
    {
      "cell_type": "code",
      "metadata": {
        "id": "34X-I8So3G5B"
      },
      "source": [
        "s = \"string\"\n",
        "print(s, type(s))"
      ],
      "execution_count": null,
      "outputs": []
    },
    {
      "cell_type": "code",
      "metadata": {
        "id": "-dyLovoJ3G5B"
      },
      "source": [
        "s: str = \"string\""
      ],
      "execution_count": null,
      "outputs": []
    },
    {
      "cell_type": "code",
      "metadata": {
        "id": "DPjC7PvF3G5C"
      },
      "source": [
        "s = 4\n",
        "print(s, type(s))"
      ],
      "execution_count": null,
      "outputs": []
    },
    {
      "cell_type": "code",
      "metadata": {
        "id": "A7P7Y-Hp3G5C"
      },
      "source": [
        "s: int = 4"
      ],
      "execution_count": null,
      "outputs": []
    },
    {
      "cell_type": "code",
      "metadata": {
        "id": "QDxen1iB3G5C"
      },
      "source": [
        "s = True \n",
        "print(s, type(s))"
      ],
      "execution_count": null,
      "outputs": []
    },
    {
      "cell_type": "code",
      "metadata": {
        "id": "Q0T0xjvh3G5C"
      },
      "source": [
        "s: bool = True"
      ],
      "execution_count": null,
      "outputs": []
    },
    {
      "cell_type": "code",
      "metadata": {
        "id": "DTlgzyYk3G5C"
      },
      "source": [
        "s = 3.14159\n",
        "print(s, type(s))"
      ],
      "execution_count": null,
      "outputs": []
    },
    {
      "cell_type": "code",
      "metadata": {
        "id": "f1g7uyUU3G5D"
      },
      "source": [
        "s: float = 3.14159"
      ],
      "execution_count": null,
      "outputs": []
    },
    {
      "cell_type": "code",
      "metadata": {
        "id": "X5CwrcVA3G5D"
      },
      "source": [
        "s = 3 +6j\n",
        "print(s, type(s))"
      ],
      "execution_count": null,
      "outputs": []
    },
    {
      "cell_type": "code",
      "metadata": {
        "id": "m-IMK0tr3G5D"
      },
      "source": [
        "s: complex = 3 + 6j"
      ],
      "execution_count": null,
      "outputs": []
    },
    {
      "cell_type": "code",
      "metadata": {
        "id": "U4MDLTpO3G5D"
      },
      "source": [
        "isinstance(True, bool)"
      ],
      "execution_count": null,
      "outputs": []
    },
    {
      "cell_type": "markdown",
      "metadata": {
        "id": "cZWA1X823G5D"
      },
      "source": [
        "## Data Types in python\n",
        "\n",
        "Boolean types:  \n",
        "```bool``` - binary value  \n",
        "\n",
        "Text types:  \n",
        "```str``` - string\n",
        "\n",
        "Numeric types:  \n",
        "```int``` - integer  \n",
        "```float``` - floating point number  \n",
        "```complex``` - complex number  \n",
        "\n",
        "Sequence types:  \n",
        "```list``` - mutable array  \n",
        "```tuple``` - immutable array  \n",
        "```range``` - array of sequential numbers  \n",
        "\n",
        "Set types:  \n",
        "```set``` - non-repetitious unordered collection  \n",
        "```frozenset``` - immutable set\n",
        "\n",
        "Mapping types:\n",
        "```dict``` - maps values to objects\n",
        "\n",
        "Binary Sequence Types  \n",
        "```bytes``` - byte literals, either b'val' or created with ```bytes()```  \n",
        "```bytearray``` - mutable bytes "
      ]
    },
    {
      "cell_type": "markdown",
      "metadata": {
        "id": "rjWBZH2_3G5D"
      },
      "source": [
        "# Bools"
      ]
    },
    {
      "cell_type": "code",
      "metadata": {
        "id": "NKQtQ-B33G5E"
      },
      "source": [
        "statement1 = True\n",
        "statement2 = False"
      ],
      "execution_count": null,
      "outputs": []
    },
    {
      "cell_type": "code",
      "metadata": {
        "id": "4533Pnq63G5E"
      },
      "source": [
        "statement1 and statement2 # explain order/short circuit"
      ],
      "execution_count": null,
      "outputs": []
    },
    {
      "cell_type": "code",
      "metadata": {
        "id": "swRB_DbB3G5F"
      },
      "source": [
        "statement1 or statement2"
      ],
      "execution_count": null,
      "outputs": []
    },
    {
      "cell_type": "code",
      "metadata": {
        "id": "xYOsPUV73G5F"
      },
      "source": [
        "not statement1"
      ],
      "execution_count": null,
      "outputs": []
    },
    {
      "cell_type": "code",
      "metadata": {
        "id": "ic-RKaCA3G5F"
      },
      "source": [
        "statement1 is True"
      ],
      "execution_count": null,
      "outputs": []
    },
    {
      "cell_type": "code",
      "metadata": {
        "id": "SbjLFsvX3G5F"
      },
      "source": [
        "statement2 is not True"
      ],
      "execution_count": null,
      "outputs": []
    },
    {
      "cell_type": "markdown",
      "metadata": {
        "id": "Ua3tJSmJ3G5G"
      },
      "source": [
        "## Strings"
      ]
    },
    {
      "cell_type": "code",
      "metadata": {
        "id": "lmzj_xKS3G5G"
      },
      "source": [
        "\"this is a string\""
      ],
      "execution_count": null,
      "outputs": []
    },
    {
      "cell_type": "code",
      "metadata": {
        "id": "uFiowRot3G5G"
      },
      "source": [
        "s = \"this is also a string\""
      ],
      "execution_count": null,
      "outputs": []
    },
    {
      "cell_type": "code",
      "metadata": {
        "id": "URd7CItK3G5G"
      },
      "source": [
        "type(s)"
      ],
      "execution_count": null,
      "outputs": []
    },
    {
      "cell_type": "code",
      "metadata": {
        "id": "5aGC6TbO3G5G"
      },
      "source": [
        "s[:]"
      ],
      "execution_count": null,
      "outputs": []
    },
    {
      "cell_type": "markdown",
      "metadata": {
        "id": "TriT4AEe3G5G"
      },
      "source": [
        "## Numeric types and Operators"
      ]
    },
    {
      "cell_type": "code",
      "metadata": {
        "id": "OvzwxIaU3G5G"
      },
      "source": [
        "s = 25\n",
        "s"
      ],
      "execution_count": null,
      "outputs": []
    },
    {
      "cell_type": "code",
      "metadata": {
        "id": "DCHgGqQw3G5H"
      },
      "source": [
        "f = 5\n",
        "f"
      ],
      "execution_count": null,
      "outputs": []
    },
    {
      "cell_type": "code",
      "metadata": {
        "id": "A6Q9Py-E3G5H"
      },
      "source": [
        "s + f"
      ],
      "execution_count": null,
      "outputs": []
    },
    {
      "cell_type": "code",
      "metadata": {
        "id": "MQTG88Gz3G5H"
      },
      "source": [
        "s - f"
      ],
      "execution_count": null,
      "outputs": []
    },
    {
      "cell_type": "code",
      "metadata": {
        "id": "PA7tqATP3G5H"
      },
      "source": [
        "s / f"
      ],
      "execution_count": null,
      "outputs": []
    },
    {
      "cell_type": "code",
      "metadata": {
        "id": "-vJLQlpv3G5H"
      },
      "source": [
        "s ** f"
      ],
      "execution_count": null,
      "outputs": []
    },
    {
      "cell_type": "code",
      "metadata": {
        "id": "aBjHMEa93G5H"
      },
      "source": [
        "s % f"
      ],
      "execution_count": null,
      "outputs": []
    },
    {
      "cell_type": "code",
      "metadata": {
        "id": "-oJ6jXcI3G5H"
      },
      "source": [
        "s == f"
      ],
      "execution_count": null,
      "outputs": []
    },
    {
      "cell_type": "code",
      "metadata": {
        "id": "y5uVhErG3G5I"
      },
      "source": [
        "s >= f"
      ],
      "execution_count": null,
      "outputs": []
    },
    {
      "cell_type": "code",
      "metadata": {
        "id": "8sp646M93G5I"
      },
      "source": [
        "s > f"
      ],
      "execution_count": null,
      "outputs": []
    },
    {
      "cell_type": "code",
      "metadata": {
        "id": "0TxoQMjk3G5I"
      },
      "source": [
        "s <= f"
      ],
      "execution_count": null,
      "outputs": []
    },
    {
      "cell_type": "code",
      "metadata": {
        "id": "_VwewEZQ3G5I"
      },
      "source": [
        "s < f"
      ],
      "execution_count": null,
      "outputs": []
    },
    {
      "cell_type": "code",
      "metadata": {
        "id": "0UmN3dlD3G5I"
      },
      "source": [
        "s += f"
      ],
      "execution_count": null,
      "outputs": []
    },
    {
      "cell_type": "code",
      "metadata": {
        "id": "HhRcNfyt3G5I"
      },
      "source": [
        "s"
      ],
      "execution_count": null,
      "outputs": []
    },
    {
      "cell_type": "markdown",
      "metadata": {
        "id": "8SwSflk13G5I"
      },
      "source": [
        "# Lists"
      ]
    },
    {
      "cell_type": "code",
      "metadata": {
        "id": "_NzikntC3G5J"
      },
      "source": [
        "l = [0,1,2,3,4,5]\n",
        "l"
      ],
      "execution_count": null,
      "outputs": []
    },
    {
      "cell_type": "code",
      "metadata": {
        "id": "R817gN9g3G5J"
      },
      "source": [
        "l.append(6)\n",
        "l"
      ],
      "execution_count": null,
      "outputs": []
    },
    {
      "cell_type": "code",
      "metadata": {
        "id": "1ZNgKM1s3G5J"
      },
      "source": [
        "l.pop()"
      ],
      "execution_count": null,
      "outputs": []
    },
    {
      "cell_type": "code",
      "metadata": {
        "id": "t2ybvhbt3G5J"
      },
      "source": [
        "len(l)"
      ],
      "execution_count": null,
      "outputs": []
    },
    {
      "cell_type": "code",
      "metadata": {
        "id": "Rh3LkGBD3G5J"
      },
      "source": [
        "l.clear()\n",
        "l"
      ],
      "execution_count": null,
      "outputs": []
    },
    {
      "cell_type": "markdown",
      "metadata": {
        "id": "uoWIP9cD3G5J"
      },
      "source": [
        "# Dicts"
      ]
    },
    {
      "cell_type": "code",
      "metadata": {
        "id": "GxMg0HkO3G5J"
      },
      "source": [
        "d = {}\n",
        "d['key'] = 'value'\n",
        "d"
      ],
      "execution_count": null,
      "outputs": []
    },
    {
      "cell_type": "code",
      "metadata": {
        "id": "11uq8Xtw3G5K"
      },
      "source": [
        "d['key']"
      ],
      "execution_count": null,
      "outputs": []
    },
    {
      "cell_type": "code",
      "metadata": {
        "id": "9hPSbfbe3G5K"
      },
      "source": [
        "d.get('key')"
      ],
      "execution_count": null,
      "outputs": []
    },
    {
      "cell_type": "code",
      "metadata": {
        "id": "DRq7OfOv3G5K"
      },
      "source": [
        "d['e']"
      ],
      "execution_count": null,
      "outputs": []
    },
    {
      "cell_type": "code",
      "metadata": {
        "id": "P6YW31oc3G5K"
      },
      "source": [
        "d.get('e')"
      ],
      "execution_count": null,
      "outputs": []
    },
    {
      "cell_type": "code",
      "metadata": {
        "id": "CC3tO9ev3G5K"
      },
      "source": [
        "d.items()"
      ],
      "execution_count": null,
      "outputs": []
    },
    {
      "cell_type": "markdown",
      "metadata": {
        "id": "eJ2VBmK_3G5K"
      },
      "source": [
        "# Strings, String Operations and String methods\n",
        "\n",
        "Strings are sequences of characters delimited by quotes. Python's `str` type allows for unicode encoding.\n",
        "\n",
        "```python\n",
        "    >>> \"basic string\" #\n",
        "    basic string\n",
        "    \n",
        "    >>> s = \"basic string\"\n",
        "    >>> print(s)\n",
        "    \"basic string\"\n",
        "    \n",
        "    >>> s = \"basic string\"\n",
        "    >>> s[0]\n",
        "    \"b\"\n",
        "```"
      ]
    },
    {
      "cell_type": "code",
      "metadata": {
        "colab": {
          "base_uri": "https://localhost:8080/",
          "height": 35
        },
        "id": "3ErTZ19M3G5K",
        "outputId": "246192cf-a789-4de8-c0ed-7dc9eebc6332"
      },
      "source": [
        "# empty string\n",
        "\"\""
      ],
      "execution_count": 5,
      "outputs": [
        {
          "output_type": "execute_result",
          "data": {
            "application/vnd.google.colaboratory.intrinsic+json": {
              "type": "string"
            },
            "text/plain": [
              "''"
            ]
          },
          "metadata": {},
          "execution_count": 5
        }
      ]
    },
    {
      "cell_type": "code",
      "metadata": {
        "id": "Xox9W4lI4tpp"
      },
      "source": [
        "sentence = \"this is a string\"\n",
        "short_string = \"Diallo \""
      ],
      "execution_count": 7,
      "outputs": []
    },
    {
      "cell_type": "code",
      "metadata": {
        "id": "VLw9c6dP3G5L"
      },
      "source": [
        "\"\" == \"\""
      ],
      "execution_count": null,
      "outputs": []
    },
    {
      "cell_type": "code",
      "metadata": {
        "id": "_k-h0DM33G5L"
      },
      "source": [
        "# string indexing\n",
        "\"string\"[0] # [-1] #"
      ],
      "execution_count": null,
      "outputs": []
    },
    {
      "cell_type": "code",
      "metadata": {
        "id": "0fATmJRg3G5L"
      },
      "source": [
        "\"string\"[:0] == \"\""
      ],
      "execution_count": null,
      "outputs": []
    },
    {
      "cell_type": "code",
      "metadata": {
        "id": "7XsliiYz3G5L"
      },
      "source": [
        "\"\".join(\"string\")"
      ],
      "execution_count": null,
      "outputs": []
    },
    {
      "cell_type": "code",
      "metadata": {
        "id": "8d4ylYGq3G5M"
      },
      "source": [
        "# declaring a string variable\n",
        "\n",
        "example = \"this is an example of a string\"\n",
        "print(example)# type(example))"
      ],
      "execution_count": null,
      "outputs": []
    },
    {
      "cell_type": "code",
      "metadata": {
        "id": "nOHr7S9M3G5M"
      },
      "source": [
        "# strings can have single...\n",
        "single_quote_example = 'this is an example that allows \"double\" quotes' #then add /n\n",
        "single_quote_example"
      ],
      "execution_count": null,
      "outputs": []
    },
    {
      "cell_type": "code",
      "metadata": {
        "id": "QG8BKzfb3G5M"
      },
      "source": [
        "# double...\n",
        "double_quote_example = \"this is an example that allows 'single' quotes\"\n",
        "double_quote_example"
      ],
      "execution_count": null,
      "outputs": []
    },
    {
      "cell_type": "code",
      "metadata": {
        "id": "hkmeLZuG3G5M"
      },
      "source": [
        "# or triple quotes\n",
        "triple_quoted = \"\"\"\n",
        "\n",
        "this is an example that can span multiple lines \n",
        "\n",
        "\"\"\"\n",
        "triple_quoted"
      ],
      "execution_count": null,
      "outputs": []
    },
    {
      "cell_type": "code",
      "metadata": {
        "id": "3FC_q6s_3G5M"
      },
      "source": [
        "# examples of escape characters useful in python\n",
        "# \"\\\\\"\n",
        "example = \"backslash to escape \\\\\"\n",
        "# \"\\\"\"\n",
        "example1 = \"escape quote \\\"\"\n",
        "# \"\\r\"\n",
        "example2 = \"carriage return \\rreplaces the line\"\n",
        "# \"\\t\"\n",
        "example3 = \"tabbed \\t\\t\\t example\\n\"\n",
        "# \"\\n\"\n",
        "example4 = \"example\\nwith new line\"\n",
        "print(example)\n",
        "print(example1)\n",
        "print(example2)\n",
        "print(example3)\n",
        "print(example4)"
      ],
      "execution_count": null,
      "outputs": []
    },
    {
      "cell_type": "code",
      "metadata": {
        "id": "BVUsOnP43G5N"
      },
      "source": [
        "example2 = \"concatenation\""
      ],
      "execution_count": null,
      "outputs": []
    },
    {
      "cell_type": "code",
      "metadata": {
        "id": "g7Pr1-yT3G5N"
      },
      "source": [
        "example + \" \" + example2"
      ],
      "execution_count": null,
      "outputs": []
    },
    {
      "cell_type": "code",
      "metadata": {
        "id": "vvUGUEJk3G5N"
      },
      "source": [
        "example = example + \" \" +  example2\n",
        "\n",
        "# also:\n",
        "#example += \" \" + example2"
      ],
      "execution_count": null,
      "outputs": []
    },
    {
      "cell_type": "code",
      "metadata": {
        "id": "eNMffGse3G5N"
      },
      "source": [
        "\"\" in [\"\", \"0\"]"
      ],
      "execution_count": null,
      "outputs": []
    },
    {
      "cell_type": "markdown",
      "metadata": {
        "id": "IxTnFk6s3G5O"
      },
      "source": [
        "# String Formatting"
      ]
    },
    {
      "cell_type": "code",
      "metadata": {
        "id": "dTVahuJG3G5O"
      },
      "source": [
        "example = \"abcdefghijklmnopqrstuvwxyz\" "
      ],
      "execution_count": null,
      "outputs": []
    },
    {
      "cell_type": "code",
      "metadata": {
        "id": "fayy2zuK3G5O"
      },
      "source": [
        "import string\n",
        "string.ascii_lowercase\n",
        "\"h e w d a e f e w d a t\".split(maxsplit=5)"
      ],
      "execution_count": null,
      "outputs": []
    },
    {
      "cell_type": "code",
      "metadata": {
        "id": "7SgZSNV53G5O"
      },
      "source": [
        "# C style string formatting\n",
        "\n",
        "example = 718\n",
        "\n",
        "\"%s\" % example"
      ],
      "execution_count": null,
      "outputs": []
    },
    {
      "cell_type": "code",
      "metadata": {
        "id": "xPnUPCod3G5O"
      },
      "source": [
        "s = \"string\"\n",
        "i = 0x2ce\n",
        "f = 98.6 \n",
        "e = 3.14159\n",
        "g = 718\n",
        "\"%s %d %.f %.5f 0x%x\" % (s, i, f, e, g)"
      ],
      "execution_count": null,
      "outputs": []
    },
    {
      "cell_type": "code",
      "metadata": {
        "id": "lvlb0ZaC3G5O"
      },
      "source": [
        "name = input(\"Enter a name here:\")\n",
        "errno = 50159747054\n",
        "\n",
        "'Hey %(name)s, there is a 0x%(errno)x error!' % { \"name\": name, \"errno\": errno }"
      ],
      "execution_count": null,
      "outputs": []
    },
    {
      "cell_type": "code",
      "metadata": {
        "id": "UcaFukcx3G5P"
      },
      "source": [
        "# \"New\" style string formatting\n",
        "e = \"Hello\"\n",
        "f = \"World\"\n",
        "\"{} {}\".format(e, f)\n"
      ],
      "execution_count": null,
      "outputs": []
    },
    {
      "cell_type": "code",
      "metadata": {
        "id": "Ghpyd6Fa3G5P"
      },
      "source": [
        "\"{e} {f}\".format(e=e, f=f)"
      ],
      "execution_count": null,
      "outputs": []
    },
    {
      "cell_type": "code",
      "metadata": {
        "id": "CJRRso2d3G5P"
      },
      "source": [
        "# f strings in python 3.6+\n",
        "e = \"Hello\"\n",
        "f = \"World\"\n",
        "\n",
        "f\"{e} {f} {i / 100.0}\""
      ],
      "execution_count": null,
      "outputs": []
    },
    {
      "cell_type": "code",
      "metadata": {
        "id": "I2WEGfY_3G5P"
      },
      "source": [
        "f\"{round(2.43434, 4)}\""
      ],
      "execution_count": null,
      "outputs": []
    },
    {
      "cell_type": "code",
      "metadata": {
        "id": "-FMQLF5C3G5P"
      },
      "source": [
        "i = 0x2ce\n",
        "str(i)"
      ],
      "execution_count": null,
      "outputs": []
    },
    {
      "cell_type": "code",
      "metadata": {
        "id": "Z4rC42KL3G5P"
      },
      "source": [
        "# operations"
      ],
      "execution_count": null,
      "outputs": []
    },
    {
      "cell_type": "code",
      "metadata": {
        "id": "lbdxgqfm3G5P"
      },
      "source": [
        "\"\".join(\"string\")"
      ],
      "execution_count": null,
      "outputs": []
    },
    {
      "cell_type": "code",
      "metadata": {
        "id": "xEhLsFkJ3G5Q"
      },
      "source": [
        "\"\".join([\"s\", \"t\", \"r\", \"i\", \"n\", \"g\"])"
      ],
      "execution_count": null,
      "outputs": []
    },
    {
      "cell_type": "code",
      "metadata": {
        "id": "1BDZ-Ps_3G5Q"
      },
      "source": [
        "example = \"this is a string\"\n",
        "example.capitalize()"
      ],
      "execution_count": null,
      "outputs": []
    },
    {
      "cell_type": "code",
      "metadata": {
        "id": "8r-rmjSF3G5Q"
      },
      "source": [
        "example.title()"
      ],
      "execution_count": null,
      "outputs": []
    },
    {
      "cell_type": "code",
      "metadata": {
        "id": "aMZp-Fxg3G5Q"
      },
      "source": [
        "example2 = example.upper()\n",
        "example2"
      ],
      "execution_count": null,
      "outputs": []
    },
    {
      "cell_type": "code",
      "metadata": {
        "id": "pxD-3-ro3G5Q"
      },
      "source": [
        "example2.lower()"
      ],
      "execution_count": null,
      "outputs": []
    },
    {
      "cell_type": "code",
      "metadata": {
        "id": "qQPlybg63G5Q"
      },
      "source": [
        "example2.center(100)"
      ],
      "execution_count": null,
      "outputs": []
    },
    {
      "cell_type": "code",
      "metadata": {
        "id": "ZhtldX663G5R"
      },
      "source": [
        "example2.count(\"IS\")"
      ],
      "execution_count": null,
      "outputs": []
    },
    {
      "cell_type": "code",
      "metadata": {
        "id": "vZk5nSXM3G5R"
      },
      "source": [
        "example2.find(\"THIS\")"
      ],
      "execution_count": null,
      "outputs": []
    },
    {
      "cell_type": "code",
      "metadata": {
        "id": "bCK_e2WZ3G5R"
      },
      "source": [
        "example2.endswith(\"string\") # then try example2.lower().endswith(\"string\") to show chained operations"
      ],
      "execution_count": null,
      "outputs": []
    },
    {
      "cell_type": "code",
      "metadata": {
        "id": "mAOuRqjI3G5R"
      },
      "source": [
        "\"this is a sentence\".split()"
      ],
      "execution_count": null,
      "outputs": []
    },
    {
      "cell_type": "code",
      "metadata": {
        "id": "jto5h27C3G5R"
      },
      "source": [
        "\"1234567\".isalnum()"
      ],
      "execution_count": null,
      "outputs": []
    },
    {
      "cell_type": "code",
      "metadata": {
        "id": "RoJm3oml3G5R"
      },
      "source": [
        "example = \"new string\"\n",
        "example[0:3] "
      ],
      "execution_count": null,
      "outputs": []
    },
    {
      "cell_type": "code",
      "metadata": {
        "id": "XuT-Aa0x3G5R"
      },
      "source": [
        "example = \"   message    \"\n",
        "\n",
        "print(example.lstrip())\n",
        "print(example.rstrip())\n",
        "print(example.strip())"
      ],
      "execution_count": null,
      "outputs": []
    },
    {
      "cell_type": "code",
      "metadata": {
        "id": "du4t_J9Z3G5S"
      },
      "source": [
        "s = \"\"\n",
        "[s for s in dir(\"\") if not s.endswith('__')]"
      ],
      "execution_count": null,
      "outputs": []
    },
    {
      "cell_type": "markdown",
      "metadata": {
        "id": "ktJYkuEm3G5S"
      },
      "source": [
        "# Putting it all together"
      ]
    },
    {
      "cell_type": "markdown",
      "metadata": {
        "id": "4j6VlzHG3G5S"
      },
      "source": [
        "## Example 1 Creating a madlib:\n",
        "\n",
        "\"It was a `adjective`, cold November day. I woke up to the `adjective` smell of `noun` downstairs. I quickly got ready, grabbing my `noun` and ran downstairs to `verb` the `noun`. It was `day` and I was late! I rushed outside to see `person` at the bodega `verb`. I had no time for that and it was `weather` outside so I headed to the subway. On the train, I see `crazy event` so I `action in response`. I finally get to my stop and leave the train. I'm `number` minutes `early/late` so I `action`. I get to the meeting `description of your condition on arrival` only to find out that `event cancelling meeting`"
      ]
    },
    {
      "cell_type": "code",
      "metadata": {
        "id": "RwXvEBzv3G5S"
      },
      "source": [
        "s = \"\""
      ],
      "execution_count": null,
      "outputs": []
    },
    {
      "cell_type": "code",
      "metadata": {
        "id": "N7Ud3Y7l3G5S"
      },
      "source": [
        ""
      ],
      "execution_count": null,
      "outputs": []
    },
    {
      "cell_type": "markdown",
      "metadata": {
        "id": "JC3WtTu23G5S"
      },
      "source": [
        "<div style=\"background: #000;\n",
        "            color: #FFF;\n",
        "            margin: 0px;\n",
        "                padding: 10px 0px 20px 0px;\n",
        "            text-align: center; \n",
        "                \">\n",
        "    <h1>Lab</h1>\n",
        "</div>\n"
      ]
    },
    {
      "cell_type": "markdown",
      "metadata": {
        "id": "XMHtR7UN3G5T"
      },
      "source": [
        "### Question 1: \n",
        "\n",
        "Explain data types in your own words."
      ]
    },
    {
      "cell_type": "code",
      "metadata": {
        "colab": {
          "base_uri": "https://localhost:8080/",
          "height": 130
        },
        "id": "a2pByN0Mg9uj",
        "outputId": "cd481a4d-fbd6-4302-ee6b-65c7aa1b0f1e"
      },
      "source": [
        "It is a specifique attribute to a data like integer, float, character or string, and boolean. "
      ],
      "execution_count": 1,
      "outputs": [
        {
          "output_type": "error",
          "ename": "SyntaxError",
          "evalue": "ignored",
          "traceback": [
            "\u001b[0;36m  File \u001b[0;32m\"<ipython-input-1-34a1ff3b1ce8>\"\u001b[0;36m, line \u001b[0;32m1\u001b[0m\n\u001b[0;31m    it is a specifique attribute to a data like integer, float, character or string, and boolean.\u001b[0m\n\u001b[0m                     ^\u001b[0m\n\u001b[0;31mSyntaxError\u001b[0m\u001b[0;31m:\u001b[0m invalid syntax\n"
          ]
        }
      ]
    },
    {
      "cell_type": "markdown",
      "metadata": {
        "id": "DQElat933G5T"
      },
      "source": [
        "### Exercise 1:\n",
        "\n",
        "Store your first name, in lowercase, in a variable.\n",
        "Using that one variable, print your name in lowercase, Titlecase, and UPPERCASE.\n"
      ]
    },
    {
      "cell_type": "code",
      "metadata": {
        "colab": {
          "base_uri": "https://localhost:8080/"
        },
        "id": "Rv_YBFrm3G5T",
        "outputId": "871e50f0-9644-47ab-b67a-f45a38c69b0e"
      },
      "source": [
        "first_name = \"ibrahim\"\n",
        "print(first_name.lower())\n",
        "print(first_name.title())\n",
        "print(first_name.upper())"
      ],
      "execution_count": 8,
      "outputs": [
        {
          "output_type": "stream",
          "name": "stdout",
          "text": [
            "ibrahim\n",
            "Ibrahim\n",
            "IBRAHIM\n"
          ]
        }
      ]
    },
    {
      "cell_type": "markdown",
      "metadata": {
        "id": "oy5eAraA3G5T"
      },
      "source": [
        "### Exercise 2:\n",
        "\n",
        "Find a quote that you like. Store the quote in a variable, with an appropriate introduction such as \"Ken Thompson once said, 'One of my most productive days was throwing away 1000 lines of code'\". Print the quote 1000 times."
      ]
    },
    {
      "cell_type": "code",
      "metadata": {
        "colab": {
          "base_uri": "https://localhost:8080/"
        },
        "id": "RK94N2Pp3G5T",
        "outputId": "2146ed5e-8a43-4ac9-b64e-7537df4f1514"
      },
      "source": [
        "quote = \"Live in the moment\"\n",
        "for i in range(1000):\n",
        "  print(quote)"
      ],
      "execution_count": 5,
      "outputs": [
        {
          "output_type": "stream",
          "name": "stdout",
          "text": [
            "Live in the moment\n",
            "Live in the moment\n",
            "Live in the moment\n",
            "Live in the moment\n",
            "Live in the moment\n",
            "Live in the moment\n",
            "Live in the moment\n",
            "Live in the moment\n",
            "Live in the moment\n",
            "Live in the moment\n",
            "Live in the moment\n",
            "Live in the moment\n",
            "Live in the moment\n",
            "Live in the moment\n",
            "Live in the moment\n",
            "Live in the moment\n",
            "Live in the moment\n",
            "Live in the moment\n",
            "Live in the moment\n",
            "Live in the moment\n",
            "Live in the moment\n",
            "Live in the moment\n",
            "Live in the moment\n",
            "Live in the moment\n",
            "Live in the moment\n",
            "Live in the moment\n",
            "Live in the moment\n",
            "Live in the moment\n",
            "Live in the moment\n",
            "Live in the moment\n",
            "Live in the moment\n",
            "Live in the moment\n",
            "Live in the moment\n",
            "Live in the moment\n",
            "Live in the moment\n",
            "Live in the moment\n",
            "Live in the moment\n",
            "Live in the moment\n",
            "Live in the moment\n",
            "Live in the moment\n",
            "Live in the moment\n",
            "Live in the moment\n",
            "Live in the moment\n",
            "Live in the moment\n",
            "Live in the moment\n",
            "Live in the moment\n",
            "Live in the moment\n",
            "Live in the moment\n",
            "Live in the moment\n",
            "Live in the moment\n",
            "Live in the moment\n",
            "Live in the moment\n",
            "Live in the moment\n",
            "Live in the moment\n",
            "Live in the moment\n",
            "Live in the moment\n",
            "Live in the moment\n",
            "Live in the moment\n",
            "Live in the moment\n",
            "Live in the moment\n",
            "Live in the moment\n",
            "Live in the moment\n",
            "Live in the moment\n",
            "Live in the moment\n",
            "Live in the moment\n",
            "Live in the moment\n",
            "Live in the moment\n",
            "Live in the moment\n",
            "Live in the moment\n",
            "Live in the moment\n",
            "Live in the moment\n",
            "Live in the moment\n",
            "Live in the moment\n",
            "Live in the moment\n",
            "Live in the moment\n",
            "Live in the moment\n",
            "Live in the moment\n",
            "Live in the moment\n",
            "Live in the moment\n",
            "Live in the moment\n",
            "Live in the moment\n",
            "Live in the moment\n",
            "Live in the moment\n",
            "Live in the moment\n",
            "Live in the moment\n",
            "Live in the moment\n",
            "Live in the moment\n",
            "Live in the moment\n",
            "Live in the moment\n",
            "Live in the moment\n",
            "Live in the moment\n",
            "Live in the moment\n",
            "Live in the moment\n",
            "Live in the moment\n",
            "Live in the moment\n",
            "Live in the moment\n",
            "Live in the moment\n",
            "Live in the moment\n",
            "Live in the moment\n",
            "Live in the moment\n",
            "Live in the moment\n",
            "Live in the moment\n",
            "Live in the moment\n",
            "Live in the moment\n",
            "Live in the moment\n",
            "Live in the moment\n",
            "Live in the moment\n",
            "Live in the moment\n",
            "Live in the moment\n",
            "Live in the moment\n",
            "Live in the moment\n",
            "Live in the moment\n",
            "Live in the moment\n",
            "Live in the moment\n",
            "Live in the moment\n",
            "Live in the moment\n",
            "Live in the moment\n",
            "Live in the moment\n",
            "Live in the moment\n",
            "Live in the moment\n",
            "Live in the moment\n",
            "Live in the moment\n",
            "Live in the moment\n",
            "Live in the moment\n",
            "Live in the moment\n",
            "Live in the moment\n",
            "Live in the moment\n",
            "Live in the moment\n",
            "Live in the moment\n",
            "Live in the moment\n",
            "Live in the moment\n",
            "Live in the moment\n",
            "Live in the moment\n",
            "Live in the moment\n",
            "Live in the moment\n",
            "Live in the moment\n",
            "Live in the moment\n",
            "Live in the moment\n",
            "Live in the moment\n",
            "Live in the moment\n",
            "Live in the moment\n",
            "Live in the moment\n",
            "Live in the moment\n",
            "Live in the moment\n",
            "Live in the moment\n",
            "Live in the moment\n",
            "Live in the moment\n",
            "Live in the moment\n",
            "Live in the moment\n",
            "Live in the moment\n",
            "Live in the moment\n",
            "Live in the moment\n",
            "Live in the moment\n",
            "Live in the moment\n",
            "Live in the moment\n",
            "Live in the moment\n",
            "Live in the moment\n",
            "Live in the moment\n",
            "Live in the moment\n",
            "Live in the moment\n",
            "Live in the moment\n",
            "Live in the moment\n",
            "Live in the moment\n",
            "Live in the moment\n",
            "Live in the moment\n",
            "Live in the moment\n",
            "Live in the moment\n",
            "Live in the moment\n",
            "Live in the moment\n",
            "Live in the moment\n",
            "Live in the moment\n",
            "Live in the moment\n",
            "Live in the moment\n",
            "Live in the moment\n",
            "Live in the moment\n",
            "Live in the moment\n",
            "Live in the moment\n",
            "Live in the moment\n",
            "Live in the moment\n",
            "Live in the moment\n",
            "Live in the moment\n",
            "Live in the moment\n",
            "Live in the moment\n",
            "Live in the moment\n",
            "Live in the moment\n",
            "Live in the moment\n",
            "Live in the moment\n",
            "Live in the moment\n",
            "Live in the moment\n",
            "Live in the moment\n",
            "Live in the moment\n",
            "Live in the moment\n",
            "Live in the moment\n",
            "Live in the moment\n",
            "Live in the moment\n",
            "Live in the moment\n",
            "Live in the moment\n",
            "Live in the moment\n",
            "Live in the moment\n",
            "Live in the moment\n",
            "Live in the moment\n",
            "Live in the moment\n",
            "Live in the moment\n",
            "Live in the moment\n",
            "Live in the moment\n",
            "Live in the moment\n",
            "Live in the moment\n",
            "Live in the moment\n",
            "Live in the moment\n",
            "Live in the moment\n",
            "Live in the moment\n",
            "Live in the moment\n",
            "Live in the moment\n",
            "Live in the moment\n",
            "Live in the moment\n",
            "Live in the moment\n",
            "Live in the moment\n",
            "Live in the moment\n",
            "Live in the moment\n",
            "Live in the moment\n",
            "Live in the moment\n",
            "Live in the moment\n",
            "Live in the moment\n",
            "Live in the moment\n",
            "Live in the moment\n",
            "Live in the moment\n",
            "Live in the moment\n",
            "Live in the moment\n",
            "Live in the moment\n",
            "Live in the moment\n",
            "Live in the moment\n",
            "Live in the moment\n",
            "Live in the moment\n",
            "Live in the moment\n",
            "Live in the moment\n",
            "Live in the moment\n",
            "Live in the moment\n",
            "Live in the moment\n",
            "Live in the moment\n",
            "Live in the moment\n",
            "Live in the moment\n",
            "Live in the moment\n",
            "Live in the moment\n",
            "Live in the moment\n",
            "Live in the moment\n",
            "Live in the moment\n",
            "Live in the moment\n",
            "Live in the moment\n",
            "Live in the moment\n",
            "Live in the moment\n",
            "Live in the moment\n",
            "Live in the moment\n",
            "Live in the moment\n",
            "Live in the moment\n",
            "Live in the moment\n",
            "Live in the moment\n",
            "Live in the moment\n",
            "Live in the moment\n",
            "Live in the moment\n",
            "Live in the moment\n",
            "Live in the moment\n",
            "Live in the moment\n",
            "Live in the moment\n",
            "Live in the moment\n",
            "Live in the moment\n",
            "Live in the moment\n",
            "Live in the moment\n",
            "Live in the moment\n",
            "Live in the moment\n",
            "Live in the moment\n",
            "Live in the moment\n",
            "Live in the moment\n",
            "Live in the moment\n",
            "Live in the moment\n",
            "Live in the moment\n",
            "Live in the moment\n",
            "Live in the moment\n",
            "Live in the moment\n",
            "Live in the moment\n",
            "Live in the moment\n",
            "Live in the moment\n",
            "Live in the moment\n",
            "Live in the moment\n",
            "Live in the moment\n",
            "Live in the moment\n",
            "Live in the moment\n",
            "Live in the moment\n",
            "Live in the moment\n",
            "Live in the moment\n",
            "Live in the moment\n",
            "Live in the moment\n",
            "Live in the moment\n",
            "Live in the moment\n",
            "Live in the moment\n",
            "Live in the moment\n",
            "Live in the moment\n",
            "Live in the moment\n",
            "Live in the moment\n",
            "Live in the moment\n",
            "Live in the moment\n",
            "Live in the moment\n",
            "Live in the moment\n",
            "Live in the moment\n",
            "Live in the moment\n",
            "Live in the moment\n",
            "Live in the moment\n",
            "Live in the moment\n",
            "Live in the moment\n",
            "Live in the moment\n",
            "Live in the moment\n",
            "Live in the moment\n",
            "Live in the moment\n",
            "Live in the moment\n",
            "Live in the moment\n",
            "Live in the moment\n",
            "Live in the moment\n",
            "Live in the moment\n",
            "Live in the moment\n",
            "Live in the moment\n",
            "Live in the moment\n",
            "Live in the moment\n",
            "Live in the moment\n",
            "Live in the moment\n",
            "Live in the moment\n",
            "Live in the moment\n",
            "Live in the moment\n",
            "Live in the moment\n",
            "Live in the moment\n",
            "Live in the moment\n",
            "Live in the moment\n",
            "Live in the moment\n",
            "Live in the moment\n",
            "Live in the moment\n",
            "Live in the moment\n",
            "Live in the moment\n",
            "Live in the moment\n",
            "Live in the moment\n",
            "Live in the moment\n",
            "Live in the moment\n",
            "Live in the moment\n",
            "Live in the moment\n",
            "Live in the moment\n",
            "Live in the moment\n",
            "Live in the moment\n",
            "Live in the moment\n",
            "Live in the moment\n",
            "Live in the moment\n",
            "Live in the moment\n",
            "Live in the moment\n",
            "Live in the moment\n",
            "Live in the moment\n",
            "Live in the moment\n",
            "Live in the moment\n",
            "Live in the moment\n",
            "Live in the moment\n",
            "Live in the moment\n",
            "Live in the moment\n",
            "Live in the moment\n",
            "Live in the moment\n",
            "Live in the moment\n",
            "Live in the moment\n",
            "Live in the moment\n",
            "Live in the moment\n",
            "Live in the moment\n",
            "Live in the moment\n",
            "Live in the moment\n",
            "Live in the moment\n",
            "Live in the moment\n",
            "Live in the moment\n",
            "Live in the moment\n",
            "Live in the moment\n",
            "Live in the moment\n",
            "Live in the moment\n",
            "Live in the moment\n",
            "Live in the moment\n",
            "Live in the moment\n",
            "Live in the moment\n",
            "Live in the moment\n",
            "Live in the moment\n",
            "Live in the moment\n",
            "Live in the moment\n",
            "Live in the moment\n",
            "Live in the moment\n",
            "Live in the moment\n",
            "Live in the moment\n",
            "Live in the moment\n",
            "Live in the moment\n",
            "Live in the moment\n",
            "Live in the moment\n",
            "Live in the moment\n",
            "Live in the moment\n",
            "Live in the moment\n",
            "Live in the moment\n",
            "Live in the moment\n",
            "Live in the moment\n",
            "Live in the moment\n",
            "Live in the moment\n",
            "Live in the moment\n",
            "Live in the moment\n",
            "Live in the moment\n",
            "Live in the moment\n",
            "Live in the moment\n",
            "Live in the moment\n",
            "Live in the moment\n",
            "Live in the moment\n",
            "Live in the moment\n",
            "Live in the moment\n",
            "Live in the moment\n",
            "Live in the moment\n",
            "Live in the moment\n",
            "Live in the moment\n",
            "Live in the moment\n",
            "Live in the moment\n",
            "Live in the moment\n",
            "Live in the moment\n",
            "Live in the moment\n",
            "Live in the moment\n",
            "Live in the moment\n",
            "Live in the moment\n",
            "Live in the moment\n",
            "Live in the moment\n",
            "Live in the moment\n",
            "Live in the moment\n",
            "Live in the moment\n",
            "Live in the moment\n",
            "Live in the moment\n",
            "Live in the moment\n",
            "Live in the moment\n",
            "Live in the moment\n",
            "Live in the moment\n",
            "Live in the moment\n",
            "Live in the moment\n",
            "Live in the moment\n",
            "Live in the moment\n",
            "Live in the moment\n",
            "Live in the moment\n",
            "Live in the moment\n",
            "Live in the moment\n",
            "Live in the moment\n",
            "Live in the moment\n",
            "Live in the moment\n",
            "Live in the moment\n",
            "Live in the moment\n",
            "Live in the moment\n",
            "Live in the moment\n",
            "Live in the moment\n",
            "Live in the moment\n",
            "Live in the moment\n",
            "Live in the moment\n",
            "Live in the moment\n",
            "Live in the moment\n",
            "Live in the moment\n",
            "Live in the moment\n",
            "Live in the moment\n",
            "Live in the moment\n",
            "Live in the moment\n",
            "Live in the moment\n",
            "Live in the moment\n",
            "Live in the moment\n",
            "Live in the moment\n",
            "Live in the moment\n",
            "Live in the moment\n",
            "Live in the moment\n",
            "Live in the moment\n",
            "Live in the moment\n",
            "Live in the moment\n",
            "Live in the moment\n",
            "Live in the moment\n",
            "Live in the moment\n",
            "Live in the moment\n",
            "Live in the moment\n",
            "Live in the moment\n",
            "Live in the moment\n",
            "Live in the moment\n",
            "Live in the moment\n",
            "Live in the moment\n",
            "Live in the moment\n",
            "Live in the moment\n",
            "Live in the moment\n",
            "Live in the moment\n",
            "Live in the moment\n",
            "Live in the moment\n",
            "Live in the moment\n",
            "Live in the moment\n",
            "Live in the moment\n",
            "Live in the moment\n",
            "Live in the moment\n",
            "Live in the moment\n",
            "Live in the moment\n",
            "Live in the moment\n",
            "Live in the moment\n",
            "Live in the moment\n",
            "Live in the moment\n",
            "Live in the moment\n",
            "Live in the moment\n",
            "Live in the moment\n",
            "Live in the moment\n",
            "Live in the moment\n",
            "Live in the moment\n",
            "Live in the moment\n",
            "Live in the moment\n",
            "Live in the moment\n",
            "Live in the moment\n",
            "Live in the moment\n",
            "Live in the moment\n",
            "Live in the moment\n",
            "Live in the moment\n",
            "Live in the moment\n",
            "Live in the moment\n",
            "Live in the moment\n",
            "Live in the moment\n",
            "Live in the moment\n",
            "Live in the moment\n",
            "Live in the moment\n",
            "Live in the moment\n",
            "Live in the moment\n",
            "Live in the moment\n",
            "Live in the moment\n",
            "Live in the moment\n",
            "Live in the moment\n",
            "Live in the moment\n",
            "Live in the moment\n",
            "Live in the moment\n",
            "Live in the moment\n",
            "Live in the moment\n",
            "Live in the moment\n",
            "Live in the moment\n",
            "Live in the moment\n",
            "Live in the moment\n",
            "Live in the moment\n",
            "Live in the moment\n",
            "Live in the moment\n",
            "Live in the moment\n",
            "Live in the moment\n",
            "Live in the moment\n",
            "Live in the moment\n",
            "Live in the moment\n",
            "Live in the moment\n",
            "Live in the moment\n",
            "Live in the moment\n",
            "Live in the moment\n",
            "Live in the moment\n",
            "Live in the moment\n",
            "Live in the moment\n",
            "Live in the moment\n",
            "Live in the moment\n",
            "Live in the moment\n",
            "Live in the moment\n",
            "Live in the moment\n",
            "Live in the moment\n",
            "Live in the moment\n",
            "Live in the moment\n",
            "Live in the moment\n",
            "Live in the moment\n",
            "Live in the moment\n",
            "Live in the moment\n",
            "Live in the moment\n",
            "Live in the moment\n",
            "Live in the moment\n",
            "Live in the moment\n",
            "Live in the moment\n",
            "Live in the moment\n",
            "Live in the moment\n",
            "Live in the moment\n",
            "Live in the moment\n",
            "Live in the moment\n",
            "Live in the moment\n",
            "Live in the moment\n",
            "Live in the moment\n",
            "Live in the moment\n",
            "Live in the moment\n",
            "Live in the moment\n",
            "Live in the moment\n",
            "Live in the moment\n",
            "Live in the moment\n",
            "Live in the moment\n",
            "Live in the moment\n",
            "Live in the moment\n",
            "Live in the moment\n",
            "Live in the moment\n",
            "Live in the moment\n",
            "Live in the moment\n",
            "Live in the moment\n",
            "Live in the moment\n",
            "Live in the moment\n",
            "Live in the moment\n",
            "Live in the moment\n",
            "Live in the moment\n",
            "Live in the moment\n",
            "Live in the moment\n",
            "Live in the moment\n",
            "Live in the moment\n",
            "Live in the moment\n",
            "Live in the moment\n",
            "Live in the moment\n",
            "Live in the moment\n",
            "Live in the moment\n",
            "Live in the moment\n",
            "Live in the moment\n",
            "Live in the moment\n",
            "Live in the moment\n",
            "Live in the moment\n",
            "Live in the moment\n",
            "Live in the moment\n",
            "Live in the moment\n",
            "Live in the moment\n",
            "Live in the moment\n",
            "Live in the moment\n",
            "Live in the moment\n",
            "Live in the moment\n",
            "Live in the moment\n",
            "Live in the moment\n",
            "Live in the moment\n",
            "Live in the moment\n",
            "Live in the moment\n",
            "Live in the moment\n",
            "Live in the moment\n",
            "Live in the moment\n",
            "Live in the moment\n",
            "Live in the moment\n",
            "Live in the moment\n",
            "Live in the moment\n",
            "Live in the moment\n",
            "Live in the moment\n",
            "Live in the moment\n",
            "Live in the moment\n",
            "Live in the moment\n",
            "Live in the moment\n",
            "Live in the moment\n",
            "Live in the moment\n",
            "Live in the moment\n",
            "Live in the moment\n",
            "Live in the moment\n",
            "Live in the moment\n",
            "Live in the moment\n",
            "Live in the moment\n",
            "Live in the moment\n",
            "Live in the moment\n",
            "Live in the moment\n",
            "Live in the moment\n",
            "Live in the moment\n",
            "Live in the moment\n",
            "Live in the moment\n",
            "Live in the moment\n",
            "Live in the moment\n",
            "Live in the moment\n",
            "Live in the moment\n",
            "Live in the moment\n",
            "Live in the moment\n",
            "Live in the moment\n",
            "Live in the moment\n",
            "Live in the moment\n",
            "Live in the moment\n",
            "Live in the moment\n",
            "Live in the moment\n",
            "Live in the moment\n",
            "Live in the moment\n",
            "Live in the moment\n",
            "Live in the moment\n",
            "Live in the moment\n",
            "Live in the moment\n",
            "Live in the moment\n",
            "Live in the moment\n",
            "Live in the moment\n",
            "Live in the moment\n",
            "Live in the moment\n",
            "Live in the moment\n",
            "Live in the moment\n",
            "Live in the moment\n",
            "Live in the moment\n",
            "Live in the moment\n",
            "Live in the moment\n",
            "Live in the moment\n",
            "Live in the moment\n",
            "Live in the moment\n",
            "Live in the moment\n",
            "Live in the moment\n",
            "Live in the moment\n",
            "Live in the moment\n",
            "Live in the moment\n",
            "Live in the moment\n",
            "Live in the moment\n",
            "Live in the moment\n",
            "Live in the moment\n",
            "Live in the moment\n",
            "Live in the moment\n",
            "Live in the moment\n",
            "Live in the moment\n",
            "Live in the moment\n",
            "Live in the moment\n",
            "Live in the moment\n",
            "Live in the moment\n",
            "Live in the moment\n",
            "Live in the moment\n",
            "Live in the moment\n",
            "Live in the moment\n",
            "Live in the moment\n",
            "Live in the moment\n",
            "Live in the moment\n",
            "Live in the moment\n",
            "Live in the moment\n",
            "Live in the moment\n",
            "Live in the moment\n",
            "Live in the moment\n",
            "Live in the moment\n",
            "Live in the moment\n",
            "Live in the moment\n",
            "Live in the moment\n",
            "Live in the moment\n",
            "Live in the moment\n",
            "Live in the moment\n",
            "Live in the moment\n",
            "Live in the moment\n",
            "Live in the moment\n",
            "Live in the moment\n",
            "Live in the moment\n",
            "Live in the moment\n",
            "Live in the moment\n",
            "Live in the moment\n",
            "Live in the moment\n",
            "Live in the moment\n",
            "Live in the moment\n",
            "Live in the moment\n",
            "Live in the moment\n",
            "Live in the moment\n",
            "Live in the moment\n",
            "Live in the moment\n",
            "Live in the moment\n",
            "Live in the moment\n",
            "Live in the moment\n",
            "Live in the moment\n",
            "Live in the moment\n",
            "Live in the moment\n",
            "Live in the moment\n",
            "Live in the moment\n",
            "Live in the moment\n",
            "Live in the moment\n",
            "Live in the moment\n",
            "Live in the moment\n",
            "Live in the moment\n",
            "Live in the moment\n",
            "Live in the moment\n",
            "Live in the moment\n",
            "Live in the moment\n",
            "Live in the moment\n",
            "Live in the moment\n",
            "Live in the moment\n",
            "Live in the moment\n",
            "Live in the moment\n",
            "Live in the moment\n",
            "Live in the moment\n",
            "Live in the moment\n",
            "Live in the moment\n",
            "Live in the moment\n",
            "Live in the moment\n",
            "Live in the moment\n",
            "Live in the moment\n",
            "Live in the moment\n",
            "Live in the moment\n",
            "Live in the moment\n",
            "Live in the moment\n",
            "Live in the moment\n",
            "Live in the moment\n",
            "Live in the moment\n",
            "Live in the moment\n",
            "Live in the moment\n",
            "Live in the moment\n",
            "Live in the moment\n",
            "Live in the moment\n",
            "Live in the moment\n",
            "Live in the moment\n",
            "Live in the moment\n",
            "Live in the moment\n",
            "Live in the moment\n",
            "Live in the moment\n",
            "Live in the moment\n",
            "Live in the moment\n",
            "Live in the moment\n",
            "Live in the moment\n",
            "Live in the moment\n",
            "Live in the moment\n",
            "Live in the moment\n",
            "Live in the moment\n",
            "Live in the moment\n",
            "Live in the moment\n",
            "Live in the moment\n",
            "Live in the moment\n",
            "Live in the moment\n",
            "Live in the moment\n",
            "Live in the moment\n",
            "Live in the moment\n",
            "Live in the moment\n",
            "Live in the moment\n",
            "Live in the moment\n",
            "Live in the moment\n",
            "Live in the moment\n",
            "Live in the moment\n",
            "Live in the moment\n",
            "Live in the moment\n",
            "Live in the moment\n",
            "Live in the moment\n",
            "Live in the moment\n",
            "Live in the moment\n",
            "Live in the moment\n",
            "Live in the moment\n",
            "Live in the moment\n",
            "Live in the moment\n",
            "Live in the moment\n",
            "Live in the moment\n",
            "Live in the moment\n",
            "Live in the moment\n",
            "Live in the moment\n",
            "Live in the moment\n",
            "Live in the moment\n",
            "Live in the moment\n",
            "Live in the moment\n",
            "Live in the moment\n",
            "Live in the moment\n",
            "Live in the moment\n",
            "Live in the moment\n",
            "Live in the moment\n",
            "Live in the moment\n",
            "Live in the moment\n",
            "Live in the moment\n",
            "Live in the moment\n",
            "Live in the moment\n",
            "Live in the moment\n",
            "Live in the moment\n",
            "Live in the moment\n",
            "Live in the moment\n",
            "Live in the moment\n",
            "Live in the moment\n",
            "Live in the moment\n",
            "Live in the moment\n",
            "Live in the moment\n",
            "Live in the moment\n",
            "Live in the moment\n",
            "Live in the moment\n",
            "Live in the moment\n",
            "Live in the moment\n",
            "Live in the moment\n",
            "Live in the moment\n",
            "Live in the moment\n",
            "Live in the moment\n",
            "Live in the moment\n",
            "Live in the moment\n",
            "Live in the moment\n",
            "Live in the moment\n",
            "Live in the moment\n",
            "Live in the moment\n",
            "Live in the moment\n",
            "Live in the moment\n",
            "Live in the moment\n",
            "Live in the moment\n",
            "Live in the moment\n",
            "Live in the moment\n",
            "Live in the moment\n",
            "Live in the moment\n",
            "Live in the moment\n",
            "Live in the moment\n",
            "Live in the moment\n",
            "Live in the moment\n",
            "Live in the moment\n",
            "Live in the moment\n",
            "Live in the moment\n",
            "Live in the moment\n",
            "Live in the moment\n",
            "Live in the moment\n",
            "Live in the moment\n",
            "Live in the moment\n",
            "Live in the moment\n",
            "Live in the moment\n",
            "Live in the moment\n",
            "Live in the moment\n",
            "Live in the moment\n",
            "Live in the moment\n",
            "Live in the moment\n",
            "Live in the moment\n",
            "Live in the moment\n",
            "Live in the moment\n",
            "Live in the moment\n",
            "Live in the moment\n",
            "Live in the moment\n",
            "Live in the moment\n",
            "Live in the moment\n",
            "Live in the moment\n",
            "Live in the moment\n",
            "Live in the moment\n",
            "Live in the moment\n",
            "Live in the moment\n",
            "Live in the moment\n",
            "Live in the moment\n",
            "Live in the moment\n",
            "Live in the moment\n",
            "Live in the moment\n",
            "Live in the moment\n",
            "Live in the moment\n",
            "Live in the moment\n",
            "Live in the moment\n",
            "Live in the moment\n",
            "Live in the moment\n",
            "Live in the moment\n",
            "Live in the moment\n",
            "Live in the moment\n",
            "Live in the moment\n",
            "Live in the moment\n",
            "Live in the moment\n",
            "Live in the moment\n",
            "Live in the moment\n",
            "Live in the moment\n",
            "Live in the moment\n",
            "Live in the moment\n",
            "Live in the moment\n",
            "Live in the moment\n",
            "Live in the moment\n",
            "Live in the moment\n",
            "Live in the moment\n",
            "Live in the moment\n",
            "Live in the moment\n",
            "Live in the moment\n",
            "Live in the moment\n",
            "Live in the moment\n",
            "Live in the moment\n",
            "Live in the moment\n",
            "Live in the moment\n",
            "Live in the moment\n",
            "Live in the moment\n",
            "Live in the moment\n",
            "Live in the moment\n",
            "Live in the moment\n",
            "Live in the moment\n",
            "Live in the moment\n",
            "Live in the moment\n",
            "Live in the moment\n",
            "Live in the moment\n",
            "Live in the moment\n",
            "Live in the moment\n",
            "Live in the moment\n",
            "Live in the moment\n",
            "Live in the moment\n",
            "Live in the moment\n",
            "Live in the moment\n",
            "Live in the moment\n",
            "Live in the moment\n",
            "Live in the moment\n",
            "Live in the moment\n",
            "Live in the moment\n",
            "Live in the moment\n",
            "Live in the moment\n",
            "Live in the moment\n",
            "Live in the moment\n",
            "Live in the moment\n",
            "Live in the moment\n",
            "Live in the moment\n",
            "Live in the moment\n",
            "Live in the moment\n",
            "Live in the moment\n",
            "Live in the moment\n",
            "Live in the moment\n",
            "Live in the moment\n",
            "Live in the moment\n",
            "Live in the moment\n",
            "Live in the moment\n",
            "Live in the moment\n",
            "Live in the moment\n",
            "Live in the moment\n",
            "Live in the moment\n",
            "Live in the moment\n",
            "Live in the moment\n",
            "Live in the moment\n",
            "Live in the moment\n",
            "Live in the moment\n",
            "Live in the moment\n",
            "Live in the moment\n",
            "Live in the moment\n",
            "Live in the moment\n",
            "Live in the moment\n",
            "Live in the moment\n",
            "Live in the moment\n",
            "Live in the moment\n",
            "Live in the moment\n",
            "Live in the moment\n",
            "Live in the moment\n",
            "Live in the moment\n",
            "Live in the moment\n",
            "Live in the moment\n",
            "Live in the moment\n",
            "Live in the moment\n",
            "Live in the moment\n",
            "Live in the moment\n",
            "Live in the moment\n",
            "Live in the moment\n",
            "Live in the moment\n",
            "Live in the moment\n",
            "Live in the moment\n",
            "Live in the moment\n",
            "Live in the moment\n",
            "Live in the moment\n",
            "Live in the moment\n",
            "Live in the moment\n"
          ]
        }
      ]
    },
    {
      "cell_type": "markdown",
      "metadata": {
        "id": "LzLDxWDa3G5T"
      },
      "source": [
        "### Exercise 3:\n",
        "\n",
        "Use python string operations and methods to use the following variables to print this:\n",
        "\n",
        "    \"hello world\""
      ]
    },
    {
      "cell_type": "code",
      "metadata": {
        "id": "pJcQiQTR3G5T"
      },
      "source": [
        "message_1 = \"hELlo\"\n",
        "message_2 = \"                              wor\"\n",
        "message_3 = \"wbdaloqteldndyrcggzf\""
      ],
      "execution_count": 7,
      "outputs": []
    },
    {
      "cell_type": "code",
      "metadata": {
        "colab": {
          "base_uri": "https://localhost:8080/"
        },
        "id": "Djpe18mitvGc",
        "outputId": "ffed6879-5c69-4bb7-dab3-f4bc692438c3"
      },
      "source": [
        "print(message_1.lower() + \" \" + message_2.lstrip() + message_3[9:11])"
      ],
      "execution_count": 14,
      "outputs": [
        {
          "output_type": "stream",
          "name": "stdout",
          "text": [
            "hello world\n"
          ]
        }
      ]
    },
    {
      "cell_type": "markdown",
      "metadata": {
        "id": "f0tJbuMT3G5U"
      },
      "source": [
        "### Exercise 4\n",
        "\n",
        "Fix the following code so it prints properly"
      ]
    },
    {
      "cell_type": "code",
      "metadata": {
        "colab": {
          "base_uri": "https://localhost:8080/"
        },
        "id": "1PLNM2cC3G5U",
        "outputId": "656616f7-1ce2-4e61-fbd0-0812f735fb7f"
      },
      "source": [
        "# Dollar amounts should only have two digits after the decimal\n",
        "print(\"The price is $%.2f.\" % (3.44444))"
      ],
      "execution_count": 15,
      "outputs": [
        {
          "output_type": "stream",
          "name": "stdout",
          "text": [
            "The price is $3.44.\n"
          ]
        }
      ]
    },
    {
      "cell_type": "code",
      "metadata": {
        "colab": {
          "base_uri": "https://localhost:8080/"
        },
        "id": "2QtEpO403G5U",
        "outputId": "427c6e05-e9b5-4833-f833-0a1588f60310"
      },
      "source": [
        "name = input(\"Enter your name: \")\n",
        "language = input(\"Enter the language you are learning: \")\n",
        "print(\"{} is learning {}\".format(name, language) )"
      ],
      "execution_count": 2,
      "outputs": [
        {
          "output_type": "stream",
          "name": "stdout",
          "text": [
            "Enter your name: Diallo\n",
            "Enter the language you are learning: python\n",
            "Diallo is learning python\n"
          ]
        }
      ]
    },
    {
      "cell_type": "markdown",
      "metadata": {
        "id": "ZyMd8FqL3G5U"
      },
      "source": [
        "### Exercise 5\n",
        "\n",
        "Create your own mad-lib with at least 5 inputs."
      ]
    },
    {
      "cell_type": "code",
      "metadata": {
        "colab": {
          "base_uri": "https://localhost:8080/"
        },
        "id": "1Esv0LLYxrsR",
        "outputId": "389592d7-cdc6-49ec-f81e-5f3a8f117ec0"
      },
      "source": [
        "adj = input(\"Enter an Adjective \")\n",
        "noun = input(\"Enter noun \")\n",
        "day = input(\"Enter a day \")\n",
        "country = input(\"Enter a country \")\n",
        "color = input(\"Enter a color \")\n",
        "\n",
        "print(f\"I like the {color} in {country} flag. It makes the flag {adj}. I have a  {noun} that look like this flag and I usely put it on {day}\")\n"
      ],
      "execution_count": 6,
      "outputs": [
        {
          "output_type": "stream",
          "name": "stdout",
          "text": [
            "Enter an Adjective beautiful\n",
            "Enter noun hat\n",
            "Enter a day Mondays\n",
            "Enter a country USA\n",
            "Enter a color blue\n",
            "I like the blue in USA flag. It makes the flag beautiful. I have a  hat that look like this flag and I usely put it on Mondays\n"
          ]
        }
      ]
    }
  ]
}